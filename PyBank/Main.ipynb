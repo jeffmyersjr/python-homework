{
 "cells": [
  {
   "cell_type": "code",
   "execution_count": 65,
   "metadata": {},
   "outputs": [],
   "source": [
    "# Import the necessary libraries for reading csv files\n",
    "\n",
    "import csv\n",
    "from pathlib import Path\n",
    "\n",
    "# Set the path for the csv file\n",
    "\n",
    "csvpath=Path(\"budget_data.csv\")\n"
   ]
  },
  {
   "cell_type": "code",
   "execution_count": 66,
   "metadata": {},
   "outputs": [
    {
     "name": "stdout",
     "output_type": "stream",
     "text": [
      "Financial Analysis\n",
      "----------------------------\n",
      "Total Months: 86\n",
      "Total: $38382578\n",
      "Average  Change: $-2315.12\n",
      "Greatest Increase in Profits: 12-Feb ($1926159)\n",
      "Greatest Decrease in Profits: 13-Sep ($-2196167)\n"
     ]
    }
   ],
   "source": [
    "# Open the CSV\n",
    "\n",
    "with open(csvpath) as csvfile:\n",
    "    csvreader = csv.reader(csvfile, delimiter=\",\")\n",
    "    csv_header = next(csvreader)\n",
    "    \n",
    "    months = 0\n",
    "    curr_profit = 0\n",
    "    change_pl = 0\n",
    "    prev_month_pl = 0\n",
    "    running_change = []\n",
    "    g_profit = 0.0\n",
    "    g_profit_date = \"\"\n",
    "    g_loss = 0.0\n",
    "    g_loss_date = \"\"\n",
    "    \n",
    "    for row in csvreader:\n",
    "        months = months + 1\n",
    "        curr_profit = int(row[1])\n",
    "        if months >1:\n",
    "            change_pl = curr_profit - prev_month_pl\n",
    "            running_change.append(change_pl)\n",
    "            avg_change = round((sum(running_change)/len(running_change)),2)\n",
    "            if change_pl > g_profit:\n",
    "                g_profit = change_pl\n",
    "                g_profit_date = row[0]\n",
    "            if change_pl < g_loss:\n",
    "                g_loss = change_pl\n",
    "                g_loss_date = row[0]\n",
    "                \n",
    "        prev_month_pl = curr_profit\n",
    "   \n",
    "\n",
    "    \n",
    "    print(\"Financial Analysis\")\n",
    "    print(\"----------------------------\")\n",
    "    print(f\"Total Months: {months}\")\n",
    "    print(f\"Total: ${net_profit}\")\n",
    "    print(f\"Average  Change: ${avg_change}\")\n",
    "    print(f\"Greatest Increase in Profits: {g_profit_date} (${g_profit})\")\n",
    "    print(f\"Greatest Decrease in Profits: {g_loss_date} (${g_loss})\")\n",
    "    \n",
    "# Set output file name\n",
    "output_path = 'output.txt'\n",
    "    \n",
    "    \n",
    "# Open the output path as a file object\n",
    "with open(output_path, 'w') as file:\n",
    "    # Write daily_average to the output file, convert to string\n",
    "    file.write(\"Financial Analysis\\n\")\n",
    "    file.write(\"----------------------------\")\n",
    "    file.write(f\"Total Months: {months}\")\n",
    "    file.write(f\"Total: ${net_profit}\")\n",
    "    file.write(f\"Average  Change: ${avg_change}\")\n",
    "    file.write(f\"Greatest Increase in Profits: {g_profit_date} (${g_profit})\")\n",
    "    file.write(f\"Greatest Decrease in Profits: {g_loss_date} (${g_loss})\")\n",
    "\n",
    "    \n",
    "\n"
   ]
  },
  {
   "cell_type": "code",
   "execution_count": null,
   "metadata": {},
   "outputs": [],
   "source": []
  }
 ],
 "metadata": {
  "kernelspec": {
   "display_name": "Python 3",
   "language": "python",
   "name": "python3"
  },
  "language_info": {
   "codemirror_mode": {
    "name": "ipython",
    "version": 3
   },
   "file_extension": ".py",
   "mimetype": "text/x-python",
   "name": "python",
   "nbconvert_exporter": "python",
   "pygments_lexer": "ipython3",
   "version": "3.7.7"
  }
 },
 "nbformat": 4,
 "nbformat_minor": 4
}
